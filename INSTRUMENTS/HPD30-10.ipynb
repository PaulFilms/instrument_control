{
 "cells": [
  {
   "cell_type": "code",
   "execution_count": 9,
   "metadata": {},
   "outputs": [],
   "source": [
    "import os\n",
    "from time import sleep\n",
    "# \n",
    "from pydeveloptools import func_xlsx, func_system\n",
    "from instrument_control import VISA\n",
    "from instrument_control.SPECIAL import HP_344XX"
   ]
  },
  {
   "cell_type": "code",
   "execution_count": 10,
   "metadata": {},
   "outputs": [],
   "source": [
    "DUT = VISA.INSTRUMENT(\"GPIB0::5::INSTR\")\n",
    "DMM = HP_344XX(\"USB0::0x2A8D::0x1301::SG60000138::INSTR\")\n",
    "N_MEAS = 5"
   ]
  },
  {
   "cell_type": "code",
   "execution_count": 11,
   "metadata": {},
   "outputs": [],
   "source": [
    "# HEADER\n",
    "EXCEL = func_xlsx.XLSREPORT(os.path.join(r\"C:\\Users\\GONZA_PA\\Desktop\",\"REPORT\"))\n",
    "EXCEL.WR_HEADER(EXCEL.ROW, 1, \"REPORT\")\n",
    "EXCEL.WR_HEADER(EXCEL.ROW, 3, func_system.DATE_GET_NOW())\n",
    "EXCEL.ROW_INC()\n",
    "EXCEL.LOW_BORDER(EXCEL.ROW)\n",
    "EXCEL.ROW_INC(3)\n",
    "EXCEL.SAVE()"
   ]
  },
  {
   "cell_type": "markdown",
   "metadata": {},
   "source": [
    "DC VOLTAGE ACCURACY"
   ]
  },
  {
   "cell_type": "code",
   "execution_count": 12,
   "metadata": {},
   "outputs": [],
   "source": [
    "def VDC():\n",
    "    EXCEL.ROW = 5\n",
    "    EXCEL.WR_TITLE(EXCEL.ROW, 1, \"DC VOLTAGE ACCURACY\")\n",
    "    EXCEL.ROW_INC(2)\n",
    "    LIST = [\n",
    "        1,\n",
    "        2,\n",
    "        3,\n",
    "        5,\n",
    "        10,\n",
    "        15,\n",
    "        20,\n",
    "        25,\n",
    "        30,\n",
    "    ]\n",
    "    ## INIT\n",
    "    DUT.WR(f\"VSET 0\")\n",
    "    DUT.WR(\"ISET 0\")\n",
    "    DUT.WR(\"OUT OFF\")\n",
    "\n",
    "    ## LOOP\n",
    "    for i in LIST:\n",
    "        print(\"VALUE:\", i, \" V\")\n",
    "        DUT.WR(f\"VSET {i}\")\n",
    "        DUT.WR(\"ISET 1.0\")\n",
    "        DUT.WR(\"OUT ON\")\n",
    "        sleep(1)\n",
    "        DMM.CONFIG(\"VOLTAGE_DC\")\n",
    "        for meas in range(N_MEAS):\n",
    "            ## DMM\n",
    "            value = DMM.MEAS()\n",
    "            value = float(value)\n",
    "            EXCEL.WR(EXCEL.ROW, 2, \"DMM:\")\n",
    "            EXCEL.WR(EXCEL.ROW, 3+meas, value)\n",
    "            ## DUT\n",
    "            value = DUT.RD(\"VOUT?\")\n",
    "            value = value.replace(\"VOUT\", str())\n",
    "            value = value.replace(\" \", str())\n",
    "            value = float(value)\n",
    "            EXCEL.WR(EXCEL.ROW, 4+N_MEAS, \"DUT:\")\n",
    "            EXCEL.WR(EXCEL.ROW, 5+N_MEAS+meas, value)\n",
    "        EXCEL.ROW_INC()\n",
    "    \n",
    "    ## FIN\n",
    "    EXCEL.ROW_INC()\n",
    "    DUT.WR(f\"VSET 0\")\n",
    "    DUT.WR(\"ISET 0\")\n",
    "    DUT.WR(\"OUT OFF\")\n",
    "    EXCEL.SAVE()\n",
    "    print(\"FIN\")"
   ]
  },
  {
   "cell_type": "code",
   "execution_count": 13,
   "metadata": {},
   "outputs": [],
   "source": [
    "def ADC():\n",
    "    EXCEL.ROW = 18\n",
    "    EXCEL.WR_TITLE(EXCEL.ROW, 1, \"DC CURRENT ACCURACY\")\n",
    "    EXCEL.ROW_INC(2)\n",
    "    LIST = [\n",
    "        1,\n",
    "        2,\n",
    "        3,\n",
    "        4,\n",
    "        5,\n",
    "        8,\n",
    "        10,\n",
    "    ]\n",
    "    ## INIT\n",
    "    DUT.WR(f\"VSET 0\")\n",
    "    DUT.WR(\"ISET 0\")\n",
    "    DUT.WR(\"OUT OFF\")\n",
    "\n",
    "    ## LOOP\n",
    "    for i in LIST:\n",
    "        print(\"VALUE:\", i, \" A\")\n",
    "        DUT.WR(\"VSET 10\")\n",
    "        DUT.WR(f\"ISET {i}\")\n",
    "        DUT.WR(\"OUT ON\")\n",
    "        sleep(1)\n",
    "        DMM.CONFIG(\"CURRENT_DC\")\n",
    "        DMM.WR(\"SENS:CURR:DC:TERM 10\")\n",
    "        for meas in range(N_MEAS):\n",
    "            ## DMM\n",
    "            value = DMM.MEAS()\n",
    "            value = float(value)\n",
    "            EXCEL.WR(EXCEL.ROW, 2, \"DMM:\")\n",
    "            EXCEL.WR(EXCEL.ROW, 3+meas, value)\n",
    "            ## DUT\n",
    "            value = DUT.RD(\"IOUT?\")\n",
    "            value = value.replace(\"IOUT\", str())\n",
    "            value = value.replace(\" \", str())\n",
    "            value = float(value)\n",
    "            EXCEL.WR(EXCEL.ROW, 4+N_MEAS, \"DUT:\")\n",
    "            EXCEL.WR(EXCEL.ROW, 5+N_MEAS+meas, value)\n",
    "        EXCEL.ROW_INC()\n",
    "    \n",
    "    ## FIN\n",
    "    EXCEL.ROW_INC()\n",
    "    DUT.WR(f\"VSET 0\")\n",
    "    DUT.WR(\"ISET 0\")\n",
    "    DUT.WR(\"OUT OFF\")\n",
    "    EXCEL.SAVE()\n",
    "    print(\"FIN\")"
   ]
  },
  {
   "cell_type": "code",
   "execution_count": 14,
   "metadata": {},
   "outputs": [
    {
     "name": "stdout",
     "output_type": "stream",
     "text": [
      "0  -  VDC\n",
      "1  -  ADC\n",
      "SELECT PROCEDURE:\n",
      "\n",
      "START TEST:\n",
      "\n",
      "VALUE: 1  A\n",
      "VALUE: 2  A\n",
      "VALUE: 3  A\n",
      "VALUE: 4  A\n",
      "VALUE: 5  A\n",
      "VALUE: 8  A\n",
      "VALUE: 10  A\n",
      "FIN\n"
     ]
    }
   ],
   "source": [
    "PROCEDURES = [VDC, ADC]\n",
    "\n",
    "for p in PROCEDURES:\n",
    "    print(PROCEDURES.index(p), \" - \", p.__name__)\n",
    "print(\"SELECT PROCEDURE:\")\n",
    "select = input(\"SELECT PROCEDURE -> \")\n",
    "print()\n",
    "try:\n",
    "    select = int(select)\n",
    "    print(\"START TEST:\")\n",
    "    print()\n",
    "    PROCEDURES[select]()\n",
    "    EXCEL.close()\n",
    "except:\n",
    "    print(\"ERROR !!\")"
   ]
  },
  {
   "cell_type": "code",
   "execution_count": 15,
   "metadata": {},
   "outputs": [],
   "source": [
    "DUT.WR(\"VSET 0\")\n",
    "DUT.WR(\"ISET 0\")\n",
    "DUT.WR(\"OUT ON\")"
   ]
  },
  {
   "cell_type": "code",
   "execution_count": 16,
   "metadata": {},
   "outputs": [
    {
     "name": "stdout",
     "output_type": "stream",
     "text": [
      "ID HPD30-10  Version 1.14TG\n",
      "\n",
      "GONZA_PA [2024-04-11 / 16:50]\n"
     ]
    }
   ],
   "source": [
    "DUT.WR(\"VSET 0\")\n",
    "DUT.WR(\"ISET 0\")\n",
    "DUT.WR(\"OUT OFF\")\n",
    "print(DUT.RD(\"ID?\"))\n",
    "print(func_system.GET_FIRM())"
   ]
  }
 ],
 "metadata": {
  "kernelspec": {
   "display_name": ".venv",
   "language": "python",
   "name": "python3"
  },
  "language_info": {
   "codemirror_mode": {
    "name": "ipython",
    "version": 3
   },
   "file_extension": ".py",
   "mimetype": "text/x-python",
   "name": "python",
   "nbconvert_exporter": "python",
   "pygments_lexer": "ipython3",
   "version": "3.12.2"
  }
 },
 "nbformat": 4,
 "nbformat_minor": 2
}
