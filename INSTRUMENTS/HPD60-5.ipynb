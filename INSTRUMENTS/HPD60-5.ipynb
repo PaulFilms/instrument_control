{
 "cells": [
  {
   "cell_type": "code",
   "execution_count": 1,
   "metadata": {},
   "outputs": [],
   "source": [
    "import os\n",
    "from time import sleep\n",
    "# \n",
    "from pydeveloptools import func_xlsx, func_system\n",
    "from instrument_control import VISA\n",
    "from instrument_control.SPECIAL import HP_344XX"
   ]
  },
  {
   "cell_type": "code",
   "execution_count": 2,
   "metadata": {},
   "outputs": [],
   "source": [
    "# HEADER\n",
    "EXCEL = func_xlsx.XLSREPORT(os.path.join(r\"C:\\Users\\GONZA_PA\\Desktop\",\"REPORT\"))\n",
    "EXCEL.WR_HEADER(EXCEL.ROW, 1, \"REPORT\")\n",
    "EXCEL.WR_HEADER(EXCEL.ROW, 3, func_system.DATE_GET_NOW())\n",
    "EXCEL.ROW_INC()\n",
    "EXCEL.LOW_BORDER(EXCEL.ROW)\n",
    "EXCEL.ROW_INC(3)\n",
    "EXCEL.SAVE()"
   ]
  },
  {
   "cell_type": "code",
   "execution_count": 3,
   "metadata": {},
   "outputs": [],
   "source": [
    "DUT = VISA.INSTRUMENT(\"GPIB0::2::INSTR\")\n",
    "DMM = HP_344XX(\"USB0::0x2A8D::0x1301::SG60000138::INSTR\")\n",
    "N_MEAS = 5"
   ]
  },
  {
   "cell_type": "markdown",
   "metadata": {},
   "source": [
    "DC VOLTAGE ACCURACY"
   ]
  },
  {
   "cell_type": "code",
   "execution_count": 4,
   "metadata": {},
   "outputs": [],
   "source": [
    "def VDC():\n",
    "    EXCEL.WR_TITLE(EXCEL.ROW, 1, \"DC VOLTAGE ACCURACY\")\n",
    "    EXCEL.ROW_INC(2)\n",
    "    LIST = [\n",
    "        1,\n",
    "        2,\n",
    "        3,\n",
    "        5,\n",
    "        10,\n",
    "        20,\n",
    "        30,\n",
    "        40,\n",
    "        50,\n",
    "        60,\n",
    "    ]\n",
    "    ## INIT\n",
    "    DUT.WR(f\"VSET 0\")\n",
    "    DUT.WR(\"ISET 0\")\n",
    "    DUT.WR(\"OUT OFF\")\n",
    "\n",
    "    ## LOOP\n",
    "    for i in LIST:\n",
    "        print(\"VALUE:\", i)\n",
    "        DUT.WR(f\"VSET {i}\")\n",
    "        DUT.WR(\"ISET 1.0\")\n",
    "        DUT.WR(\"OUT ON\")\n",
    "        sleep(1)\n",
    "        DMM.CONFIG(\"VOLTAGE_DC\")\n",
    "        for meas in range(N_MEAS):\n",
    "            ## DMM\n",
    "            value = DMM.MEAS()\n",
    "            value = float(value)\n",
    "            EXCEL.WR(EXCEL.ROW, 2, \"DMM:\")\n",
    "            EXCEL.WR(EXCEL.ROW, 3+meas, value)\n",
    "            ## DUT\n",
    "            value = DUT.RD(\"VOUT?\")\n",
    "            value = value.replace(\"VOUT\", str())\n",
    "            value = value.replace(\" \", str())\n",
    "            value = float(value)\n",
    "            EXCEL.WR(EXCEL.ROW, 4+N_MEAS, \"DUT:\")\n",
    "            EXCEL.WR(EXCEL.ROW, 5+N_MEAS+meas, value)\n",
    "        EXCEL.ROW_INC()\n",
    "    \n",
    "    ## FIN\n",
    "    EXCEL.ROW_INC()\n",
    "    DUT.WR(f\"VSET 0\")\n",
    "    DUT.WR(\"ISET 0\")\n",
    "    DUT.WR(\"OUT OFF\")\n",
    "    EXCEL.SAVE()\n",
    "    print(\"FIN\")"
   ]
  },
  {
   "cell_type": "code",
   "execution_count": 5,
   "metadata": {},
   "outputs": [],
   "source": [
    "def ADC():\n",
    "    EXCEL.WR_TITLE(EXCEL.ROW, 1, \"DC CURRENT ACCURACY\")\n",
    "    EXCEL.ROW_INC(2)\n",
    "    LIST = [\n",
    "        1,\n",
    "        2,\n",
    "        3,\n",
    "        4,\n",
    "        5,\n",
    "    ]\n",
    "    ## INIT\n",
    "    DUT.WR(f\"VSET 0\")\n",
    "    DUT.WR(\"ISET 0\")\n",
    "    DUT.WR(\"OUT OFF\")\n",
    "\n",
    "    ## LOOP\n",
    "    for i in LIST:\n",
    "        print(\"VALUE:\", i)\n",
    "        DUT.WR(\"VSET 1\")\n",
    "        DUT.WR(f\"ISET {i}\")\n",
    "        DUT.WR(\"OUT ON\")\n",
    "        sleep(1)\n",
    "        DMM.CONFIG(\"CURRENT_DC\")\n",
    "        DMM.WR(\"SENS:CURR:DC:TERM 10\")\n",
    "        for meas in range(N_MEAS):\n",
    "            ## DMM\n",
    "            value = DMM.MEAS()\n",
    "            value = float(value)\n",
    "            EXCEL.WR(EXCEL.ROW, 2, \"DMM:\")\n",
    "            EXCEL.WR(EXCEL.ROW, 3+meas, value)\n",
    "            ## DUT\n",
    "            value = DUT.RD(\"IOUT?\")\n",
    "            value = value.replace(\"IOUT\", str())\n",
    "            value = value.replace(\" \", str())\n",
    "            value = float(value)\n",
    "            EXCEL.WR(EXCEL.ROW, 5+N_MEAS, \"DUT:\")\n",
    "            EXCEL.WR(EXCEL.ROW, 6+N_MEAS+meas, value)\n",
    "        EXCEL.ROW_INC()\n",
    "    \n",
    "    ## FIN\n",
    "    EXCEL.ROW_INC()\n",
    "    DUT.WR(f\"VSET 0\")\n",
    "    DUT.WR(\"ISET 0\")\n",
    "    DUT.WR(\"OUT OFF\")\n",
    "    EXCEL.SAVE()\n",
    "    print(\"FIN\")"
   ]
  },
  {
   "cell_type": "code",
   "execution_count": 6,
   "metadata": {},
   "outputs": [
    {
     "name": "stdout",
     "output_type": "stream",
     "text": [
      "VALUE: 1\n",
      "VALUE: 2\n",
      "VALUE: 3\n",
      "VALUE: 4\n",
      "VALUE: 5\n",
      "FIN\n"
     ]
    }
   ],
   "source": [
    "# VDC()\n",
    "ADC()\n",
    "\n",
    "EXCEL.close()"
   ]
  },
  {
   "cell_type": "code",
   "execution_count": 13,
   "metadata": {},
   "outputs": [],
   "source": [
    "DUT.WR(\"VSET 30\")\n",
    "DUT.WR(\"ISET 1\")\n",
    "DUT.WR(\"OUT ON\")"
   ]
  },
  {
   "cell_type": "code",
   "execution_count": 12,
   "metadata": {},
   "outputs": [
    {
     "name": "stdout",
     "output_type": "stream",
     "text": [
      "ID HPD60-5  Version 1.14TG\n",
      "\n"
     ]
    }
   ],
   "source": [
    "DUT.WR(\"VSET 0\")\n",
    "DUT.WR(\"ISET 0\")\n",
    "DUT.WR(\"OUT OFF\")\n",
    "print(DUT.RD(\"ID?\"))"
   ]
  }
 ],
 "metadata": {
  "kernelspec": {
   "display_name": ".venv",
   "language": "python",
   "name": "python3"
  },
  "language_info": {
   "codemirror_mode": {
    "name": "ipython",
    "version": 3
   },
   "file_extension": ".py",
   "mimetype": "text/x-python",
   "name": "python",
   "nbconvert_exporter": "python",
   "pygments_lexer": "ipython3",
   "version": "3.12.2"
  }
 },
 "nbformat": 4,
 "nbformat_minor": 2
}
