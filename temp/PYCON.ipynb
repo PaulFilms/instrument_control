{
 "cells": [
  {
   "cell_type": "code",
   "execution_count": 1,
   "metadata": {},
   "outputs": [
    {
     "data": {
      "application/vnd.jupyter.widget-view+json": {
       "model_id": "17010222857341a786cbb6e388e73adf",
       "version_major": 2,
       "version_minor": 0
      },
      "text/plain": [
       "Label(value='¡Bienvenido!')"
      ]
     },
     "metadata": {},
     "output_type": "display_data"
    }
   ],
   "source": [
    "from instrument_control.TestConsole import TEST, APP\n",
    "# \n",
    "import ipywidgets as widgets\n",
    "from IPython.display import display\n",
    "# from IPython.\n",
    "infobox = widgets.Label(value=\"¡Bienvenido!\")\n",
    "display(infobox)"
   ]
  },
  {
   "cell_type": "markdown",
   "metadata": {},
   "source": [
    "TEMPLATE"
   ]
  },
  {
   "cell_type": "code",
   "execution_count": 2,
   "metadata": {},
   "outputs": [],
   "source": [
    "TEST1 = TEST(\n",
    "    TITLE= \"TEST1\",\n",
    "    CONFIG= \"CONFIG\",\n",
    "    LOOP_LIST= (1,2,3)\n",
    "    )\n",
    "\n",
    "TEMPLATE = [TEST1, TEST1]"
   ]
  },
  {
   "cell_type": "code",
   "execution_count": 3,
   "metadata": {},
   "outputs": [
    {
     "name": "stdout",
     "output_type": "stream",
     "text": [
      "\n",
      "TEST PYCONSOLE APP\n",
      "-------------------------------------------------------------\n",
      "version:  2024.03.04\n",
      "autor:  PABLO GONZALEZ PILA <pablogonzalezpila@gmail.com>\n",
      "date: 2024-03-13 / 10:45\n",
      "-------------------------------------------------------------\n",
      "\n",
      "00 - [EXIT]\n",
      "01 - TEST1\n",
      "02 - TEST1\n",
      "\n",
      "STOP APP\n",
      "\n"
     ]
    },
    {
     "data": {
      "text/plain": [
       "<instrument_control.TestConsole.APP at 0x26c76ed7b30>"
      ]
     },
     "execution_count": 3,
     "metadata": {},
     "output_type": "execute_result"
    }
   ],
   "source": [
    "APP(NMEAS=5, TEMPLATE=TEMPLATE)"
   ]
  }
 ],
 "metadata": {
  "kernelspec": {
   "display_name": "Python 3",
   "language": "python",
   "name": "python3"
  },
  "language_info": {
   "codemirror_mode": {
    "name": "ipython",
    "version": 3
   },
   "file_extension": ".py",
   "mimetype": "text/x-python",
   "name": "python",
   "nbconvert_exporter": "python",
   "pygments_lexer": "ipython3",
   "version": "3.12.2"
  }
 },
 "nbformat": 4,
 "nbformat_minor": 2
}
