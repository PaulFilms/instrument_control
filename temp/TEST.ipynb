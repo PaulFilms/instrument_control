{
 "cells": [
  {
   "cell_type": "code",
   "execution_count": 1,
   "metadata": {},
   "outputs": [],
   "source": [
    "from instrument_control.VISA import INSTRUMENT\n",
    "\n",
    "CALIBRATOR_RESOURCE = \"GPIB0::4::INSTR\"\n",
    "CALIBRATOR = INSTRUMENT(CALIBRATOR_RESOURCE)"
   ]
  },
  {
   "cell_type": "code",
   "execution_count": 3,
   "metadata": {},
   "outputs": [],
   "source": [
    "LEVEL = 0.01\n",
    "FREQ = 0\n",
    "\n",
    "CALIBRATOR.WR(f\"OUT {LEVEL} V\")\n",
    "CALIBRATOR.WR(f\"OUT {FREQ} HZ\")\n",
    "CALIBRATOR.WR(\"OPER\")"
   ]
  },
  {
   "cell_type": "code",
   "execution_count": 5,
   "metadata": {},
   "outputs": [],
   "source": [
    "CALIBRATOR.WR(\"STBY\")"
   ]
  }
 ],
 "metadata": {
  "kernelspec": {
   "display_name": ".venv",
   "language": "python",
   "name": "python3"
  },
  "language_info": {
   "codemirror_mode": {
    "name": "ipython",
    "version": 3
   },
   "file_extension": ".py",
   "mimetype": "text/x-python",
   "name": "python",
   "nbconvert_exporter": "python",
   "pygments_lexer": "ipython3",
   "version": "3.12.2"
  }
 },
 "nbformat": 4,
 "nbformat_minor": 2
}
