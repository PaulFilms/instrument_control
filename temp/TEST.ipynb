{
 "cells": [
  {
   "cell_type": "code",
   "execution_count": 25,
   "metadata": {},
   "outputs": [],
   "source": [
    "from instrument_control.VISA import INSTRUMENT"
   ]
  },
  {
   "cell_type": "code",
   "execution_count": 26,
   "metadata": {},
   "outputs": [],
   "source": [
    "# CALIBRATOR_RESOURCE = \"GPIB0::4::INSTR\"\n",
    "# CALIBRATOR = INSTRUMENT(CALIBRATOR_RESOURCE)\n",
    "\n",
    "# LEVEL = 0.01\n",
    "# FREQ = 0\n",
    "\n",
    "# CALIBRATOR.WR(f\"OUT {LEVEL} V\")\n",
    "# CALIBRATOR.WR(f\"OUT {FREQ} HZ\")\n",
    "# CALIBRATOR.WR(\"OPER\")\n",
    "\n",
    "# CALIBRATOR.WR(\"STBY\")"
   ]
  },
  {
   "cell_type": "code",
   "execution_count": 27,
   "metadata": {},
   "outputs": [],
   "source": [
    "GEN = INSTRUMENT(\"GPIB0::24::INSTR\")\n",
    "\n",
    "L = [\n",
    "    # 7,\n",
    "    # 9,\n",
    "    # 64,\n",
    "    # 100,\n",
    "    # 230,\n",
    "    # 380,\n",
    "    # 490,\n",
    "    # 510,\n",
    "    # 625,\n",
    "    # 740,\n",
    "    # 760,\n",
    "    # 875,\n",
    "    # 1000\n",
    "    # 10,\n",
    "    # 30,\n",
    "    # 50,\n",
    "    # 90,\n",
    "    # 150,\n",
    "    # 450,\n",
    "    # 1000\n",
    "    0.1,\n",
    "    0.2,\n",
    "    0.5,\n",
    "    1,\n",
    "    3,\n",
    "    5,\n",
    "    7.99,\n",
    "    8,\n",
    "    20,\n",
    "    30,\n",
    "    40,\n",
    "    50,\n",
    "    64.99,\n",
    "    65,\n",
    "    75,\n",
    "    84.375,\n",
    "    97.49,\n",
    "    97.5,\n",
    "    104.5,\n",
    "    117.75,\n",
    "    129.99,\n",
    "    130,\n",
    "    150,\n",
    "    194.99,\n",
    "    195,\n",
    "    209,\n",
    "    235.5,\n",
    "    259.99,\n",
    "    260,\n",
    "    300,\n",
    "    337.5,\n",
    "    389.99,\n",
    "    390,\n",
    "    418,\n",
    "    471,\n",
    "    519.99,\n",
    "    520,\n",
    "    600,\n",
    "    675,\n",
    "    720,\n",
    "    750,\n",
    "    779.99,\n",
    "    780,\n",
    "    836,\n",
    "    900,\n",
    "    942,\n",
    "    1000\n",
    "]"
   ]
  },
  {
   "cell_type": "code",
   "execution_count": 28,
   "metadata": {},
   "outputs": [
    {
     "data": {
      "application/vnd.jupyter.widget-view+json": {
       "model_id": "4510f64a4e1545c0998f5936d4e5bb69",
       "version_major": 2,
       "version_minor": 0
      },
      "text/plain": [
       "Button(description='Print next element', style=ButtonStyle())"
      ]
     },
     "metadata": {},
     "output_type": "display_data"
    },
    {
     "data": {
      "application/vnd.jupyter.widget-view+json": {
       "model_id": "0d0bc44aaf394c139eca76018e08cf52",
       "version_major": 2,
       "version_minor": 0
      },
      "text/plain": [
       "BoundedFloatText(value=0.0, description='FREQUENCY:', max=10000.0)"
      ]
     },
     "metadata": {},
     "output_type": "display_data"
    }
   ],
   "source": [
    "from ipywidgets import widgets\n",
    "\n",
    "button = widgets.Button(description='Print next element')\n",
    "output = widgets.Output()\n",
    "tx_value = widgets.BoundedFloatText(\n",
    "    value=0.0,\n",
    "    # min=0,\n",
    "    max=10000.0,\n",
    "    # step=0.1,\n",
    "    description='FREQUENCY:',\n",
    "    disabled=False\n",
    ")\n",
    "index = 0\n",
    "\n",
    "def print_next_element(b):\n",
    "    global index\n",
    "    if index < len(L):\n",
    "        tx_value.value = L[index]\n",
    "        # print(L[index])\n",
    "        # display(L[index])\n",
    "        GEN.WR(f\"RF {L[index]}MHZ\")\n",
    "        index += 1\n",
    "    else:\n",
    "        print(\"No more elements in the list!\")\n",
    "        index = 0\n",
    "\n",
    "button.on_click(print_next_element)\n",
    "\n",
    "display(button, tx_value)"
   ]
  }
 ],
 "metadata": {
  "kernelspec": {
   "display_name": ".venv",
   "language": "python",
   "name": "python3"
  },
  "language_info": {
   "codemirror_mode": {
    "name": "ipython",
    "version": 3
   },
   "file_extension": ".py",
   "mimetype": "text/x-python",
   "name": "python",
   "nbconvert_exporter": "python",
   "pygments_lexer": "ipython3",
   "version": "3.12.4"
  }
 },
 "nbformat": 4,
 "nbformat_minor": 2
}
